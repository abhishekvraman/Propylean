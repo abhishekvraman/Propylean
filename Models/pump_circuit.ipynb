{
 "cells": [
  {
   "cell_type": "code",
   "execution_count": 1,
   "id": "1985f01e",
   "metadata": {},
   "outputs": [],
   "source": [
    "from propylean import equipments, streams\n",
    "import numpy as np"
   ]
  },
  {
   "cell_type": "code",
   "execution_count": 2,
   "id": "cce8e084",
   "metadata": {},
   "outputs": [
    {
     "name": "stdout",
     "output_type": "stream",
     "text": [
      "Material Stream Tag: Water 0\n",
      "Material Stream Tag: Water 1\n",
      "Material Stream Tag: Water 2\n",
      "Material Stream Tag: Water 3\n"
     ]
    }
   ],
   "source": [
    "MS = []\n",
    "no_of_streams = 4\n",
    "for i in range(no_of_streams):\n",
    "    MS.append(streams.MaterialStream(tag='Water '+str(i)))\n",
    "    print(MS[i])"
   ]
  },
  {
   "cell_type": "code",
   "execution_count": 3,
   "id": "a82ece31",
   "metadata": {},
   "outputs": [
    {
     "data": {
      "text/plain": [
       "Centrifugal Pump with tag: Pump_1"
      ]
     },
     "execution_count": 3,
     "metadata": {},
     "output_type": "execute_result"
    }
   ],
   "source": [
    "pump = equipments.CentrifugalPump(tag='Pump_1')\n",
    "pump"
   ]
  },
  {
   "cell_type": "code",
   "execution_count": 4,
   "id": "354a4ed9",
   "metadata": {},
   "outputs": [
    {
     "data": {
      "text/plain": [
       "(0.0, 'W')"
      ]
     },
     "execution_count": 4,
     "metadata": {},
     "output_type": "execute_result"
    }
   ],
   "source": [
    "pump_energy = streams.EnergyStream(tag='Pump power input')\n",
    "pump_energy.value,pump_energy.unit"
   ]
  },
  {
   "cell_type": "code",
   "execution_count": 5,
   "id": "3197e9be",
   "metadata": {},
   "outputs": [
    {
     "data": {
      "text/plain": [
       "[Pipe Segment with tag: Pipe 1, Pipe Segment with tag: Pipe 2]"
      ]
     },
     "execution_count": 5,
     "metadata": {},
     "output_type": "execute_result"
    }
   ],
   "source": [
    "pipe_segments = [equipments.PipeSegment(tag='Pipe 1', length=10, ID=2), \n",
    "                 equipments.PipeSegment(tag='Pipe 2', length=10, ID=2)]\n",
    "pipe_segments"
   ]
  },
  {
   "cell_type": "code",
   "execution_count": 6,
   "id": "8f5760cf",
   "metadata": {},
   "outputs": [
    {
     "name": "stdout",
     "output_type": "stream",
     "text": [
      "True\n",
      "True\n"
     ]
    }
   ],
   "source": [
    "print(pump.connect_stream(stream_object=MS[1], direction='in'))\n",
    "print(pump.connect_stream(stream_object=MS[2], direction='out'))"
   ]
  },
  {
   "cell_type": "code",
   "execution_count": 7,
   "id": "9daec6eb",
   "metadata": {},
   "outputs": [
    {
     "name": "stdout",
     "output_type": "stream",
     "text": [
      "True\n",
      "True\n",
      "True\n",
      "True\n"
     ]
    }
   ],
   "source": [
    "print(pipe_segments[0].connect_stream(stream_object=MS[0], direction='in'))\n",
    "print(pipe_segments[0].connect_stream(stream_object=MS[1], direction='out'))\n",
    "print(pipe_segments[1].connect_stream(stream_object=MS[2], direction='in'))\n",
    "print(pipe_segments[1].connect_stream(stream_object=MS[3], direction='out'))"
   ]
  }
 ],
 "metadata": {
  "kernelspec": {
   "display_name": "Python 3 (ipykernel)",
   "language": "python",
   "name": "python3"
  },
  "language_info": {
   "codemirror_mode": {
    "name": "ipython",
    "version": 3
   },
   "file_extension": ".py",
   "mimetype": "text/x-python",
   "name": "python",
   "nbconvert_exporter": "python",
   "pygments_lexer": "ipython3",
   "version": "3.10.0"
  }
 },
 "nbformat": 4,
 "nbformat_minor": 5
}
