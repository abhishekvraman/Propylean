{
 "cells": [
  {
   "cell_type": "code",
   "execution_count": 1,
   "id": "1985f01e",
   "metadata": {},
   "outputs": [],
   "source": [
    "from propylean import equipments, streams\n",
    "import numpy as np"
   ]
  },
  {
   "cell_type": "code",
   "execution_count": 2,
   "id": "cce8e084",
   "metadata": {},
   "outputs": [
    {
     "name": "stdout",
     "output_type": "stream",
     "text": [
      "Material Stream Tag: Water 0\n",
      "Material Stream Tag: Water 1\n",
      "Material Stream Tag: Water 2\n",
      "Material Stream Tag: Water 3\n"
     ]
    }
   ],
   "source": [
    "MS = []\n",
    "no_of_streams = 4\n",
    "for i in range(no_of_streams):\n",
    "    MS.append(streams.MaterialStream(tag='Water '+str(i)))\n",
    "    print(MS[i])"
   ]
  },
  {
   "cell_type": "code",
   "execution_count": 3,
   "id": "90d5028a",
   "metadata": {},
   "outputs": [],
   "source": [
    "MS[0].pressure = (20, 'bar')\n",
    "MS[0].temperature = (300, 'K')\n",
    "MS[0].mass_flowrate = 50"
   ]
  },
  {
   "cell_type": "code",
   "execution_count": 4,
   "id": "3197e9be",
   "metadata": {},
   "outputs": [
    {
     "data": {
      "text/plain": [
       "[Pipe Segment with tag: Pipe 1, Pipe Segment with tag: Pipe 2]"
      ]
     },
     "execution_count": 4,
     "metadata": {},
     "output_type": "execute_result"
    }
   ],
   "source": [
    "pipe_segments = [equipments.PipeSegment(tag='Pipe 1', length=10, ID=2), \n",
    "                 equipments.PipeSegment(tag='Pipe 2', length=10, ID=2)]\n",
    "pipe_segments"
   ]
  },
  {
   "cell_type": "code",
   "execution_count": 5,
   "id": "9daec6eb",
   "metadata": {},
   "outputs": [
    {
     "name": "stdout",
     "output_type": "stream",
     "text": [
      "True\n",
      "True\n"
     ]
    }
   ],
   "source": [
    "print(pipe_segments[0].connect_stream(stream_object=MS[0], direction='in', stream_governed=True))\n",
    "print(pipe_segments[0].connect_stream(stream_object=MS[1], direction='out', stream_governed=False))"
   ]
  },
  {
   "cell_type": "markdown",
   "id": "098cf610",
   "metadata": {},
   "source": [
    "### Pipe Segment 0"
   ]
  },
  {
   "cell_type": "code",
   "execution_count": 6,
   "id": "1b1b253b",
   "metadata": {},
   "outputs": [
    {
     "name": "stdout",
     "output_type": "stream",
     "text": [
      "Inlet Pressure: 20.0 bar ,Inlet Temperature: 300 K\n",
      "Outle Pressure: 101325.0 Pa ,Outlet Temperature: 300 K\n",
      "Pressure Drop: -101305.0 bar\n",
      "Mass Flowrate: 50.0 kg/s\n"
     ]
    }
   ],
   "source": [
    "print(\"Inlet Pressure:\", pipe_segments[0].inlet_pressure, \",Inlet Temperature:\", pipe_segments[0].inlet_temperature)\n",
    "print(\"Outle Pressure:\", pipe_segments[0].outlet_pressure, \",Outlet Temperature:\", pipe_segments[0].outlet_temperature)\n",
    "print(\"Pressure Drop:\", pipe_segments[0].pressure_drop)\n",
    "print(\"Mass Flowrate:\", pipe_segments[0].inlet_mass_flowrate)"
   ]
  },
  {
   "cell_type": "markdown",
   "id": "6223f571",
   "metadata": {},
   "source": [
    "## Pump declaration and calculations"
   ]
  },
  {
   "cell_type": "code",
   "execution_count": 7,
   "id": "a82ece31",
   "metadata": {},
   "outputs": [
    {
     "name": "stdout",
     "output_type": "stream",
     "text": [
      "Centrifugal Pump with tag: Pump_1\n"
     ]
    }
   ],
   "source": [
    "pump = equipments.CentrifugalPump(tag='Pump_1')\n",
    "pump.differential_pressure=(80, 'bar')\n",
    "print(pump)"
   ]
  },
  {
   "cell_type": "code",
   "execution_count": 8,
   "id": "8f5760cf",
   "metadata": {},
   "outputs": [
    {
     "name": "stdout",
     "output_type": "stream",
     "text": [
      "True\n",
      "True\n"
     ]
    }
   ],
   "source": [
    "print(pump.connect_stream(stream_object=MS[1], direction='in', stream_governed=True))\n",
    "print(pump.connect_stream(stream_object=MS[2], direction='out', stream_governed=False))"
   ]
  },
  {
   "cell_type": "code",
   "execution_count": 9,
   "id": "343bc0c3",
   "metadata": {},
   "outputs": [
    {
     "name": "stdout",
     "output_type": "stream",
     "text": [
      "Suction Pressure: 101325.0 Pa\n",
      "Discharge Pressure: 101405.0 Pa\n",
      "Differential Pressure: 80.0 Pa\n",
      "Hydraulic Power 0.0011122448979591839\n"
     ]
    }
   ],
   "source": [
    "print(\"Suction Pressure:\", pump.suction_pressure)\n",
    "print(\"Discharge Pressure:\", pump.discharge_pressure)\n",
    "print(\"Differential Pressure:\", pump.differential_pressure)\n",
    "print(\"Hydraulic Power\", pump.hydraulic_power)"
   ]
  },
  {
   "cell_type": "code",
   "execution_count": 10,
   "id": "76094463",
   "metadata": {},
   "outputs": [
    {
     "name": "stdout",
     "output_type": "stream",
     "text": [
      "True\n",
      "True\n"
     ]
    }
   ],
   "source": [
    "print(pipe_segments[1].connect_stream(stream_object=MS[2], direction='in', stream_governed=True))\n",
    "print(pipe_segments[1].connect_stream(stream_object=MS[3], direction='out', stream_governed=False))"
   ]
  },
  {
   "cell_type": "markdown",
   "id": "a2f94a64",
   "metadata": {},
   "source": [
    "### Pipe Segment 1"
   ]
  },
  {
   "cell_type": "code",
   "execution_count": 11,
   "id": "3917fae2",
   "metadata": {},
   "outputs": [
    {
     "name": "stdout",
     "output_type": "stream",
     "text": [
      "Inlet Pressure: 101405.0 Pa ,Inlet Temperature: 300 K\n",
      "Outle Pressure: 101325.0 Pa ,Outlet Temperature: 300 K\n",
      "Pressure Drop: 80.0 Pa\n",
      "Mass Flowrate: 50.0 kg/s\n"
     ]
    }
   ],
   "source": [
    "print(\"Inlet Pressure:\", pipe_segments[1].inlet_pressure, \",Inlet Temperature:\", pipe_segments[1].inlet_temperature)\n",
    "print(\"Outle Pressure:\", pipe_segments[1].outlet_pressure, \",Outlet Temperature:\", pipe_segments[1].outlet_temperature)\n",
    "print(\"Pressure Drop:\", pipe_segments[1].pressure_drop)\n",
    "print(\"Mass Flowrate:\", pipe_segments[1].inlet_mass_flowrate)"
   ]
  }
 ],
 "metadata": {
  "kernelspec": {
   "display_name": "Python 3 (ipykernel)",
   "language": "python",
   "name": "python3"
  },
  "language_info": {
   "codemirror_mode": {
    "name": "ipython",
    "version": 3
   },
   "file_extension": ".py",
   "mimetype": "text/x-python",
   "name": "python",
   "nbconvert_exporter": "python",
   "pygments_lexer": "ipython3",
   "version": "3.10.0"
  }
 },
 "nbformat": 4,
 "nbformat_minor": 5
}
