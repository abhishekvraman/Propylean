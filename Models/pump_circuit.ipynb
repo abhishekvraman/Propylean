{
 "cells": [
  {
   "cell_type": "code",
   "execution_count": 1,
   "id": "1985f01e",
   "metadata": {},
   "outputs": [],
   "source": [
    "import sys\n",
    "sys.path.append(sys.path[0][0:-7])\n",
    "import propylean as pl"
   ]
  },
  {
   "cell_type": "code",
   "execution_count": 2,
   "id": "cce8e084",
   "metadata": {},
   "outputs": [
    {
     "name": "stdout",
     "output_type": "stream",
     "text": [
      "Material Stream Tag: water_1\n",
      "Material Stream Tag: water_2\n",
      "Material Stream Tag: water_3\n",
      "Material Stream Tag: water_4\n"
     ]
    }
   ],
   "source": [
    "MS = [pl.streams.MaterialStream(tag='water_1'), pl.streams.MaterialStream(tag='water_2'), \n",
    "      pl.streams.MaterialStream(tag='water_3'), pl.streams.MaterialStream(tag='water_4')]  \n",
    "for s in MS:\n",
    "    print(s)"
   ]
  },
  {
   "cell_type": "code",
   "execution_count": 3,
   "id": "a82ece31",
   "metadata": {},
   "outputs": [
    {
     "data": {
      "text/plain": [
       "Centrifugal Pump with tag: Pump_1"
      ]
     },
     "execution_count": 3,
     "metadata": {},
     "output_type": "execute_result"
    }
   ],
   "source": [
    "pump = pl.equipments.CentrifugalPump(tag='Pump_1')\n",
    "pump"
   ]
  },
  {
   "cell_type": "code",
   "execution_count": 4,
   "id": "354a4ed9",
   "metadata": {},
   "outputs": [
    {
     "data": {
      "text/plain": [
       "(100.0, 'W')"
      ]
     },
     "execution_count": 4,
     "metadata": {},
     "output_type": "execute_result"
    }
   ],
   "source": [
    "pump_energy = pl.streams.EnergyStream(tag='Pump power', value=100)\n",
    "pump_energy.value,pump_energy.unit"
   ]
  },
  {
   "cell_type": "code",
   "execution_count": 5,
   "id": "3197e9be",
   "metadata": {},
   "outputs": [
    {
     "data": {
      "text/plain": [
       "[Pipe Segment with tag: PS_1, Pipe Segment with tag: PS_2]"
      ]
     },
     "execution_count": 5,
     "metadata": {},
     "output_type": "execute_result"
    }
   ],
   "source": [
    "pipe_segments = [pl.equipments.PipeSegment(tag='PS_1', length=10, ID=2), \n",
    "                  pl.equipments.PipeSegment(tag='PS_2', length=10, ID=2)]\n",
    "pipe_segments"
   ]
  }
 ],
 "metadata": {
  "kernelspec": {
   "display_name": "Python 3 (ipykernel)",
   "language": "python",
   "name": "python3"
  },
  "language_info": {
   "codemirror_mode": {
    "name": "ipython",
    "version": 3
   },
   "file_extension": ".py",
   "mimetype": "text/x-python",
   "name": "python",
   "nbconvert_exporter": "python",
   "pygments_lexer": "ipython3",
   "version": "3.10.0"
  }
 },
 "nbformat": 4,
 "nbformat_minor": 5
}
