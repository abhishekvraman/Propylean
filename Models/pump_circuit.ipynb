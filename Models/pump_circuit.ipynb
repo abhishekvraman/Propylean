{
 "cells": [
  {
   "cell_type": "code",
   "execution_count": 1,
   "id": "1985f01e",
   "metadata": {},
   "outputs": [],
   "source": [
    "from propylean import equipments, streams\n",
    "import numpy as np"
   ]
  },
  {
   "cell_type": "code",
   "execution_count": 2,
   "id": "cce8e084",
   "metadata": {},
   "outputs": [
    {
     "name": "stdout",
     "output_type": "stream",
     "text": [
      "Material Stream Tag: Water 0\n",
      "Material Stream Tag: Water 1\n",
      "Material Stream Tag: Water 2\n",
      "Material Stream Tag: Water 3\n"
     ]
    }
   ],
   "source": [
    "MS = []\n",
    "no_of_streams = 4\n",
    "for i in range(no_of_streams):\n",
    "    MS.append(streams.MaterialStream(tag='Water '+str(i)))\n",
    "    print(MS[i])"
   ]
  },
  {
   "cell_type": "code",
   "execution_count": 3,
   "id": "90d5028a",
   "metadata": {},
   "outputs": [],
   "source": [
    "MS[0].pressure = (100, 'bar')\n",
    "MS[0].temperature = (300, 'K')\n",
    "MS[0].mass_flowrate = (100000, 'kg/s')"
   ]
  },
  {
   "cell_type": "code",
   "execution_count": 4,
   "id": "3197e9be",
   "metadata": {},
   "outputs": [
    {
     "data": {
      "text/plain": [
       "[Pipe Segment with tag: Pipe 1, Pipe Segment with tag: Pipe 2]"
      ]
     },
     "execution_count": 4,
     "metadata": {},
     "output_type": "execute_result"
    }
   ],
   "source": [
    "pipe_segments = [equipments.PipeSegment(tag='Pipe 1', length=10, ID=0.347675), \n",
    "                 equipments.PipeSegment(tag='Pipe 2', length=10, ID=0.347675)]\n",
    "pipe_segments"
   ]
  },
  {
   "cell_type": "code",
   "execution_count": 5,
   "id": "9daec6eb",
   "metadata": {},
   "outputs": [
    {
     "name": "stdout",
     "output_type": "stream",
     "text": [
      "True\n",
      "True\n"
     ]
    }
   ],
   "source": [
    "print(pipe_segments[0].connect_stream(stream_object=MS[0], direction='in', stream_governed=True))\n",
    "print(pipe_segments[0].connect_stream(stream_object=MS[1], direction='out', stream_governed=False))"
   ]
  },
  {
   "cell_type": "markdown",
   "id": "098cf610",
   "metadata": {},
   "source": [
    "### Pipe Segment 0"
   ]
  },
  {
   "cell_type": "code",
   "execution_count": 6,
   "id": "1b1b253b",
   "metadata": {},
   "outputs": [
    {
     "name": "stdout",
     "output_type": "stream",
     "text": [
      "Inlet Pressure: 99.99999663999998 bar ,Inlet Temperature: 300 K\n",
      "Outlet Pressure: 99.98357640999998 bar ,Outlet Temperature: 300 K\n",
      "Pressure Drop: 0.016420229999999997 bar\n",
      "Mass Flowrate: 100000.0 kg/s\n"
     ]
    }
   ],
   "source": [
    "print(\"Inlet Pressure:\", pipe_segments[0].inlet_pressure, \",Inlet Temperature:\", pipe_segments[0].inlet_temperature)\n",
    "print(\"Outlet Pressure:\", pipe_segments[0].outlet_pressure, \",Outlet Temperature:\", pipe_segments[0].outlet_temperature)\n",
    "print(\"Pressure Drop:\", pipe_segments[0].pressure_drop)\n",
    "print(\"Mass Flowrate:\", pipe_segments[0].inlet_mass_flowrate)"
   ]
  },
  {
   "cell_type": "markdown",
   "id": "01428f74",
   "metadata": {},
   "source": [
    "### Material Stream 1"
   ]
  },
  {
   "cell_type": "code",
   "execution_count": 7,
   "id": "c28197b8",
   "metadata": {},
   "outputs": [
    {
     "name": "stdout",
     "output_type": "stream",
     "text": [
      "Pressure: 99.98357640999998 bar\n",
      "Temperature: 300 K\n",
      "Mass Flowrate: 100000.0 kg/s\n"
     ]
    }
   ],
   "source": [
    "print(\"Pressure:\", MS[1].pressure)\n",
    "print(\"Temperature:\", MS[1].temperature)\n",
    "print(\"Mass Flowrate:\", MS[1].mass_flowrate)"
   ]
  },
  {
   "cell_type": "markdown",
   "id": "6223f571",
   "metadata": {},
   "source": [
    "## Pump declaration and calculations"
   ]
  },
  {
   "cell_type": "code",
   "execution_count": 8,
   "id": "a82ece31",
   "metadata": {},
   "outputs": [
    {
     "name": "stdout",
     "output_type": "stream",
     "text": [
      "Centrifugal Pump with tag: Pump_1\n"
     ]
    }
   ],
   "source": [
    "pump = equipments.CentrifugalPump(tag='Pump_1')\n",
    "pump.differential_pressure = (200, 'bar')\n",
    "print(pump)"
   ]
  },
  {
   "cell_type": "code",
   "execution_count": 9,
   "id": "8f5760cf",
   "metadata": {},
   "outputs": [
    {
     "name": "stdout",
     "output_type": "stream",
     "text": [
      "True\n",
      "True\n"
     ]
    }
   ],
   "source": [
    "print(pump.connect_stream(stream_object=MS[1], direction='in', stream_governed=True))\n",
    "print(pump.connect_stream(stream_object=MS[2], direction='out', stream_governed=False))"
   ]
  },
  {
   "cell_type": "code",
   "execution_count": 10,
   "id": "343bc0c3",
   "metadata": {},
   "outputs": [
    {
     "name": "stdout",
     "output_type": "stream",
     "text": [
      "Suction Pressure: 99.98357640999996 bar\n",
      "Suction Temperature: 300 K\n",
      "Discharge Pressure: 299.98357640999996 bar\n",
      "Discharge Temperature: 300 K\n",
      "Differential Pressure: 200.0 bar\n",
      "Mass Flowrate: 100000.0 kg/s\n",
      "Hydraulic Power 5.561224489795918\n"
     ]
    }
   ],
   "source": [
    "print(\"Suction Pressure:\", pump.suction_pressure)\n",
    "print(\"Suction Temperature:\", pump.inlet_temperature)\n",
    "print(\"Discharge Pressure:\", pump.discharge_pressure)\n",
    "print(\"Discharge Temperature:\", pump.outlet_temperature)\n",
    "print(\"Differential Pressure:\", pump.differential_pressure)\n",
    "print(\"Mass Flowrate:\", pump.inlet_mass_flowrate)\n",
    "print(\"Hydraulic Power\", pump.hydraulic_power)"
   ]
  },
  {
   "cell_type": "code",
   "execution_count": 11,
   "id": "76094463",
   "metadata": {},
   "outputs": [
    {
     "name": "stdout",
     "output_type": "stream",
     "text": [
      "True\n",
      "True\n"
     ]
    }
   ],
   "source": [
    "print(pipe_segments[1].connect_stream(stream_object=MS[2], direction='in', stream_governed=True))\n",
    "print(pipe_segments[1].connect_stream(stream_object=MS[3], direction='out', stream_governed=False))"
   ]
  },
  {
   "cell_type": "markdown",
   "id": "6e55a763",
   "metadata": {},
   "source": [
    "### Material Stream 2"
   ]
  },
  {
   "cell_type": "code",
   "execution_count": 12,
   "id": "52931950",
   "metadata": {},
   "outputs": [
    {
     "name": "stdout",
     "output_type": "stream",
     "text": [
      "Pressure: 299.98357640999996 bar\n",
      "Temperature: 300 K\n",
      "Mass Flowrate: 100000.0 kg/s\n"
     ]
    }
   ],
   "source": [
    "print(\"Pressure:\", MS[2].pressure)\n",
    "print(\"Temperature:\", MS[2].temperature)\n",
    "print(\"Mass Flowrate:\", MS[2].mass_flowrate)"
   ]
  },
  {
   "cell_type": "markdown",
   "id": "a2f94a64",
   "metadata": {},
   "source": [
    "### Pipe Segment 1"
   ]
  },
  {
   "cell_type": "code",
   "execution_count": 13,
   "id": "3917fae2",
   "metadata": {},
   "outputs": [
    {
     "name": "stdout",
     "output_type": "stream",
     "text": [
      "Inlet Pressure: 299.98357304999996 bar ,Inlet Temperature: 300 K\n",
      "Outle Pressure: 299.96715281999997 bar ,Outlet Temperature: 300 K\n",
      "Pressure Drop: 0.016420229999999997 bar\n",
      "Mass Flowrate: 100000.0 kg/s\n"
     ]
    }
   ],
   "source": [
    "print(\"Inlet Pressure:\", pipe_segments[1].inlet_pressure, \",Inlet Temperature:\", pipe_segments[1].inlet_temperature)\n",
    "print(\"Outle Pressure:\", pipe_segments[1].outlet_pressure, \",Outlet Temperature:\", pipe_segments[1].outlet_temperature)\n",
    "print(\"Pressure Drop:\", pipe_segments[1].pressure_drop)\n",
    "print(\"Mass Flowrate:\", pipe_segments[1].inlet_mass_flowrate)"
   ]
  },
  {
   "cell_type": "markdown",
   "id": "68626db0",
   "metadata": {},
   "source": [
    "### Material Stream 3"
   ]
  },
  {
   "cell_type": "code",
   "execution_count": 14,
   "id": "5256756d",
   "metadata": {},
   "outputs": [
    {
     "name": "stdout",
     "output_type": "stream",
     "text": [
      "Pressure: 299.96715281999997 bar\n",
      "Temperature: 300 K\n",
      "Mass Flowrate: 100000.0 kg/s\n"
     ]
    }
   ],
   "source": [
    "print(\"Pressure:\", MS[3].pressure)\n",
    "print(\"Temperature:\", MS[3].temperature)\n",
    "print(\"Mass Flowrate:\", MS[3].mass_flowrate)"
   ]
  }
 ],
 "metadata": {
  "kernelspec": {
   "display_name": "Python 3 (ipykernel)",
   "language": "python",
   "name": "python3"
  },
  "language_info": {
   "codemirror_mode": {
    "name": "ipython",
    "version": 3
   },
   "file_extension": ".py",
   "mimetype": "text/x-python",
   "name": "python",
   "nbconvert_exporter": "python",
   "pygments_lexer": "ipython3",
   "version": "3.10.0"
  }
 },
 "nbformat": 4,
 "nbformat_minor": 5
}
