{
 "cells": [
  {
   "cell_type": "markdown",
   "id": "c98d186c",
   "metadata": {},
   "source": [
    "# Basic Pump circuit demonstration"
   ]
  },
  {
   "cell_type": "code",
   "execution_count": 1,
   "id": "1985f01e",
   "metadata": {},
   "outputs": [],
   "source": [
    "from propylean.equipments.rotary import CentrifugalPump\n",
    "from propylean.equipments.static import PipeSegment\n",
    "from propylean.instruments.control import ControlValve\n",
    "from propylean.instruments.measurement import FlowMeter\n",
    "from propylean import streams"
   ]
  },
  {
   "cell_type": "code",
   "execution_count": 2,
   "id": "cce8e084",
   "metadata": {},
   "outputs": [
    {
     "name": "stdout",
     "output_type": "stream",
     "text": [
      "Material Stream Tag: Water 0\n",
      "Material Stream Tag: Water 1\n",
      "Material Stream Tag: Water 2\n",
      "Material Stream Tag: Water 3\n",
      "Material Stream Tag: Water 4\n",
      "Material Stream Tag: Water 5\n"
     ]
    }
   ],
   "source": [
    "MS = []\n",
    "no_of_streams = 6\n",
    "for i in range(0, no_of_streams):\n",
    "    MS.append(streams.MaterialStream(tag='Water '+str(i)))\n",
    "    print(MS[i])"
   ]
  },
  {
   "cell_type": "code",
   "execution_count": 3,
   "id": "90d5028a",
   "metadata": {},
   "outputs": [],
   "source": [
    "from propylean import properties as prop\n",
    "MS[0].pressure = (100, 'bar')\n",
    "MS[0].temperature = prop.Temperature(40, 'C')\n",
    "MS[0].mass_flowrate = (100000, 'kg/min')\n",
    "MS[0].components = prop.Components(fractions={\"water\": 1}, type=\"mass\")"
   ]
  },
  {
   "cell_type": "code",
   "execution_count": 4,
   "id": "3197e9be",
   "metadata": {},
   "outputs": [
    {
     "data": {
      "text/plain": [
       "[Pipe Segment with tag: Pipe 1, Pipe Segment with tag: Pipe 2]"
      ]
     },
     "execution_count": 4,
     "metadata": {},
     "output_type": "execute_result"
    }
   ],
   "source": [
    "pipe_segments = [PipeSegment(tag='Pipe 1', length=(20,'m'), ID=(347.675, 'mm')), \n",
    "                 PipeSegment(tag='Pipe 2', length=(30,'m'), ID=(347.675, 'mm'))]\n",
    "pipe_segments"
   ]
  },
  {
   "cell_type": "code",
   "execution_count": 5,
   "id": "d844b9a8",
   "metadata": {},
   "outputs": [],
   "source": [
    "pipe_segments[0].elevation = prop.Length(-2, 'm')\n",
    "pipe_segments[1].elevation = prop.Length(10, 'm')"
   ]
  },
  {
   "cell_type": "code",
   "execution_count": 6,
   "id": "9daec6eb",
   "metadata": {},
   "outputs": [
    {
     "name": "stdout",
     "output_type": "stream",
     "text": [
      "0\n",
      "True\n",
      "1\n",
      "True\n"
     ]
    }
   ],
   "source": [
    "print(pipe_segments[0].connect_stream(stream_object=MS[0], direction='in', stream_governed=True))\n",
    "print(pipe_segments[0].connect_stream(stream_object=MS[1], direction='out', stream_governed=False))"
   ]
  },
  {
   "cell_type": "markdown",
   "id": "098cf610",
   "metadata": {},
   "source": [
    "### Pipe Segment 0"
   ]
  },
  {
   "cell_type": "code",
   "execution_count": 7,
   "id": "1b1b253b",
   "metadata": {},
   "outputs": [
    {
     "name": "stdout",
     "output_type": "stream",
     "text": [
      "Inlet Pressure: 100.00000000000001 bar , Inlet Temperature: 40.0 C\n",
      "Outlet Pressure: 100.18938139219661 bar , Outlet Temperature: 40.0 C\n",
      "Pressure Drop: -0.18938139219660133 bar\n",
      "Mass Flowrate: 100000.0 kg/min\n"
     ]
    }
   ],
   "source": [
    "print(\"Inlet Pressure:\", pipe_segments[0].inlet_pressure, \", Inlet Temperature:\", pipe_segments[0].inlet_temperature)\n",
    "print(\"Outlet Pressure:\", pipe_segments[0].outlet_pressure, \", Outlet Temperature:\", pipe_segments[0].outlet_temperature)\n",
    "print(\"Pressure Drop:\", pipe_segments[0].pressure_drop)\n",
    "print(\"Mass Flowrate:\", pipe_segments[0].inlet_mass_flowrate)"
   ]
  },
  {
   "cell_type": "markdown",
   "id": "01428f74",
   "metadata": {},
   "source": [
    "### Material Stream 1"
   ]
  },
  {
   "cell_type": "code",
   "execution_count": 8,
   "id": "c28197b8",
   "metadata": {},
   "outputs": [
    {
     "name": "stdout",
     "output_type": "stream",
     "text": [
      "Pressure: 100.18938139219661 bar\n",
      "Temperature: 40.0 C\n",
      "Mass Flowrate: 100000.0 kg/min\n"
     ]
    }
   ],
   "source": [
    "print(\"Pressure:\", MS[1].pressure)\n",
    "print(\"Temperature:\", MS[1].temperature)\n",
    "print(\"Mass Flowrate:\", MS[1].mass_flowrate)"
   ]
  },
  {
   "cell_type": "markdown",
   "id": "6223f571",
   "metadata": {},
   "source": [
    "## Pump declaration and calculations"
   ]
  },
  {
   "cell_type": "code",
   "execution_count": 9,
   "id": "a82ece31",
   "metadata": {},
   "outputs": [
    {
     "name": "stdout",
     "output_type": "stream",
     "text": [
      "Centrifugal Pump with tag: Pump_1\n"
     ]
    }
   ],
   "source": [
    "pump = CentrifugalPump(tag='Pump_1', efficiency=0.60)\n",
    "pump.differential_pressure = (150, 'bar')\n",
    "print(pump)"
   ]
  },
  {
   "cell_type": "code",
   "execution_count": 10,
   "id": "8f5760cf",
   "metadata": {},
   "outputs": [
    {
     "name": "stdout",
     "output_type": "stream",
     "text": [
      "True\n",
      "2\n",
      "True\n"
     ]
    }
   ],
   "source": [
    "print(pump.connect_stream(stream_object=MS[1], direction='in', stream_governed=True))\n",
    "print(pump.connect_stream(stream_object=MS[2], direction='out', stream_governed=False))"
   ]
  },
  {
   "cell_type": "code",
   "execution_count": 11,
   "id": "343bc0c3",
   "metadata": {},
   "outputs": [
    {
     "name": "stdout",
     "output_type": "stream",
     "text": [
      "Suction Pressure: 100.18938139219661 bar\n",
      "Suction Temperature: 40.0 C\n",
      "Discharge Pressure: 250.1893813921966 bar\n",
      "Discharge Temperature: 40.0 C\n",
      "Differential Pressure: 150.0 bar\n",
      "Mass Flowrate: 100000.0 kg/min\n",
      "Pump Head: 1542.3769438294728 m\n",
      "Hydraulic Power: 25192156.749214724 W\n",
      "Brake Horse Power: 41986927.91535787 W\n",
      "NPSH available: 1030.1986125057444 m\n"
     ]
    }
   ],
   "source": [
    "print(\"Suction Pressure:\", pump.suction_pressure)\n",
    "print(\"Suction Temperature:\", pump.inlet_temperature)\n",
    "print(\"Discharge Pressure:\", pump.discharge_pressure)\n",
    "print(\"Discharge Temperature:\", pump.outlet_temperature)\n",
    "print(\"Differential Pressure:\", pump.differential_pressure)\n",
    "print(\"Mass Flowrate:\", pump.inlet_mass_flowrate)\n",
    "print(\"Pump Head:\", pump.head)\n",
    "print(\"Hydraulic Power:\", pump.hydraulic_power)\n",
    "print(\"Brake Horse Power:\", pump.power)\n",
    "print(\"NPSH available:\", pump.NPSHa)"
   ]
  },
  {
   "cell_type": "markdown",
   "id": "6e55a763",
   "metadata": {},
   "source": [
    "### Material Stream 2"
   ]
  },
  {
   "cell_type": "code",
   "execution_count": 12,
   "id": "52931950",
   "metadata": {},
   "outputs": [
    {
     "name": "stdout",
     "output_type": "stream",
     "text": [
      "Pressure: 250.1893813921966 bar\n",
      "Temperature: 40.0 C\n",
      "Mass Flowrate: 100000.0 kg/min\n"
     ]
    }
   ],
   "source": [
    "print(\"Pressure:\", MS[2].pressure)\n",
    "print(\"Temperature:\", MS[2].temperature)\n",
    "print(\"Mass Flowrate:\", MS[2].mass_flowrate)"
   ]
  },
  {
   "cell_type": "markdown",
   "id": "a2f94a64",
   "metadata": {},
   "source": [
    "### Pipe Segment 1"
   ]
  },
  {
   "cell_type": "code",
   "execution_count": 13,
   "id": "76094463",
   "metadata": {},
   "outputs": [
    {
     "name": "stdout",
     "output_type": "stream",
     "text": [
      "True\n",
      "3\n",
      "True\n"
     ]
    }
   ],
   "source": [
    "print(pipe_segments[1].connect_stream(stream_object=MS[2], direction='in', stream_governed=True))\n",
    "print(pipe_segments[1].connect_stream(stream_object=MS[3], direction='out', stream_governed=False))"
   ]
  },
  {
   "cell_type": "code",
   "execution_count": 14,
   "id": "3917fae2",
   "metadata": {},
   "outputs": [
    {
     "name": "stdout",
     "output_type": "stream",
     "text": [
      "Inlet Pressure: 250.1893813921966 bar ,Inlet Temperature: 40.0 C\n",
      "Outle Pressure: 249.2091710912136 bar ,Outlet Temperature: 40.0 C\n",
      "Pressure Drop: 0.9802103009830068 bar\n",
      "Mass Flowrate: 100000.0 kg/min\n"
     ]
    }
   ],
   "source": [
    "print(\"Inlet Pressure:\", pipe_segments[1].inlet_pressure, \",Inlet Temperature:\", pipe_segments[1].inlet_temperature)\n",
    "print(\"Outle Pressure:\", pipe_segments[1].outlet_pressure, \",Outlet Temperature:\", pipe_segments[1].outlet_temperature)\n",
    "print(\"Pressure Drop:\", pipe_segments[1].pressure_drop)\n",
    "print(\"Mass Flowrate:\", pipe_segments[1].inlet_mass_flowrate)"
   ]
  },
  {
   "cell_type": "markdown",
   "id": "68626db0",
   "metadata": {},
   "source": [
    "### Material Stream 3"
   ]
  },
  {
   "cell_type": "code",
   "execution_count": 15,
   "id": "5256756d",
   "metadata": {},
   "outputs": [
    {
     "name": "stdout",
     "output_type": "stream",
     "text": [
      "Pressure: 249.2091710912136 bar\n",
      "Temperature: 40.0 C\n",
      "Mass Flowrate: 100000.0 kg/min\n"
     ]
    }
   ],
   "source": [
    "print(\"Pressure:\", MS[3].pressure)\n",
    "print(\"Temperature:\", MS[3].temperature)\n",
    "print(\"Mass Flowrate:\", MS[3].mass_flowrate)"
   ]
  },
  {
   "cell_type": "markdown",
   "id": "cbcc786e",
   "metadata": {},
   "source": [
    "### Outlet Control Valve declaration and connection"
   ]
  },
  {
   "cell_type": "code",
   "execution_count": 16,
   "id": "d396f0e5",
   "metadata": {},
   "outputs": [
    {
     "name": "stdout",
     "output_type": "stream",
     "text": [
      "Control Valve with tag: Outlet_CV\n",
      "True\n",
      "4\n",
      "True\n"
     ]
    }
   ],
   "source": [
    "valve = ControlValve(tag=\"Outlet_CV\")\n",
    "valve.pressure_drop = (50, 'bar')\n",
    "print(valve)\n",
    "print(valve.connect_stream(stream_object=MS[3], direction='in', stream_governed=True))\n",
    "print(valve.connect_stream(stream_object=MS[4], direction='out', stream_governed=False))"
   ]
  },
  {
   "cell_type": "code",
   "execution_count": 17,
   "id": "25e55343",
   "metadata": {},
   "outputs": [
    {
     "name": "stdout",
     "output_type": "stream",
     "text": [
      "Inlet Pressure: 249.2091710912136 bar  ,Inlet Temperature: 40.0 C\n",
      "Outle Pressure: 199.2091710912136 bar  ,Outlet Temperature: 40.0 C\n",
      "Mass Flowrate: 100000.0 kg/min\n",
      "Pressure Drop: 50.0 bar\n",
      "Cv: 51129.90366884331\n"
     ]
    }
   ],
   "source": [
    "print(\"Inlet Pressure:\", valve.inlet_pressure,\" ,Inlet Temperature:\", valve.inlet_temperature)\n",
    "print(\"Outle Pressure:\", valve.outlet_pressure,\" ,Outlet Temperature:\", valve.outlet_temperature)\n",
    "print(\"Mass Flowrate:\", valve.inlet_mass_flowrate)\n",
    "print(\"Pressure Drop:\", valve.pressure_drop)\n",
    "print(\"Cv:\", valve.Cv)"
   ]
  },
  {
   "cell_type": "markdown",
   "id": "080702ed",
   "metadata": {},
   "source": [
    "### Material Stream 4"
   ]
  },
  {
   "cell_type": "code",
   "execution_count": 18,
   "id": "b99372f0",
   "metadata": {},
   "outputs": [
    {
     "name": "stdout",
     "output_type": "stream",
     "text": [
      "Pressure: 199.2091710912136 bar\n",
      "Temperature: 40.0 C\n",
      "Mass Flowrate: 100000.0 kg/min\n"
     ]
    }
   ],
   "source": [
    "print(\"Pressure:\", MS[4].pressure)\n",
    "print(\"Temperature:\", MS[4].temperature)\n",
    "print(\"Mass Flowrate:\", MS[4].mass_flowrate)"
   ]
  },
  {
   "cell_type": "markdown",
   "id": "eedc8eb9",
   "metadata": {},
   "source": [
    "### Flow meter declaration and connection"
   ]
  },
  {
   "cell_type": "code",
   "execution_count": 19,
   "id": "d8b6a00d",
   "metadata": {},
   "outputs": [
    {
     "name": "stdout",
     "output_type": "stream",
     "text": [
      "True\n",
      "5\n",
      "True\n"
     ]
    }
   ],
   "source": [
    "FM=FlowMeter(pressure_drop=(0.01, 'bar'))\n",
    "print(FM.connect_stream(stream_object=MS[4], direction='in', stream_governed=True))\n",
    "print(FM.connect_stream(stream_object=MS[5], direction='out', stream_governed=False))"
   ]
  },
  {
   "cell_type": "code",
   "execution_count": 20,
   "id": "865e4fc5",
   "metadata": {},
   "outputs": [
    {
     "data": {
      "text/plain": [
       "0.01 bar"
      ]
     },
     "execution_count": 20,
     "metadata": {},
     "output_type": "execute_result"
    }
   ],
   "source": [
    "FM.pressure_drop"
   ]
  },
  {
   "cell_type": "markdown",
   "id": "242284cc",
   "metadata": {},
   "source": [
    "### Material Stream 5"
   ]
  },
  {
   "cell_type": "code",
   "execution_count": 21,
   "id": "0820b7c1",
   "metadata": {},
   "outputs": [
    {
     "name": "stdout",
     "output_type": "stream",
     "text": [
      "Pressure: 199.1991710912136 bar\n",
      "Temperature: 40.0 C\n",
      "Mass Flowrate: 100000.0 kg/min\n"
     ]
    }
   ],
   "source": [
    "print(\"Pressure:\", MS[5].pressure)\n",
    "print(\"Temperature:\", MS[5].temperature)\n",
    "print(\"Mass Flowrate:\", MS[5].mass_flowrate)"
   ]
  }
 ],
 "metadata": {
  "interpreter": {
   "hash": "3b52e12d90ae9ef43970b208346ba62d3ba6a6730b3c13bc2a4c44e71ec65f8a"
  },
  "kernelspec": {
   "display_name": "Python 3.10.0 64-bit",
   "language": "python",
   "name": "python3"
  },
  "language_info": {
   "codemirror_mode": {
    "name": "ipython",
    "version": 3
   },
   "file_extension": ".py",
   "mimetype": "text/x-python",
   "name": "python",
   "nbconvert_exporter": "python",
   "pygments_lexer": "ipython3",
   "version": "3.10.0"
  }
 },
 "nbformat": 4,
 "nbformat_minor": 5
}
